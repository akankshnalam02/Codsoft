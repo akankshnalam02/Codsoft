{
 "cells": [
  {
   "cell_type": "markdown",
   "id": "ed612da8",
   "metadata": {},
   "source": [
    "### Importing libraries and Reading data"
   ]
  },
  {
   "cell_type": "code",
   "execution_count": 1,
   "id": "877429a1",
   "metadata": {},
   "outputs": [],
   "source": [
    "# Importing useful libraries\n",
    "import pandas as pd\n",
    "import numpy as np\n",
    "from textblob.classifiers import NaiveBayesClassifier as NBC\n",
    "from sklearn.linear_model import LogisticRegression\n",
    "\n",
    "import warnings\n",
    "warnings.filterwarnings(\"ignore\")"
   ]
  },
  {
   "cell_type": "code",
   "execution_count": 2,
   "id": "4e2730b5",
   "metadata": {},
   "outputs": [],
   "source": [
    "# loading datasets\n",
    "train_data = pd.read_csv(r'C:\\Users\\Dlc\\Downloads\\Genre Classification Dataset\\train_data.txt',sep=':::',names=['ID','TITLE','GENRE','DESCRIPTION'])\n",
    "test_data = pd.read_csv(r'C:\\Users\\Dlc\\Downloads\\Genre Classification Dataset\\test_data.txt',sep=':::',names=['ID','TITLE','DESCRIPTION'])\n",
    "test_data_sol = pd.read_csv(r'C:\\Users\\Dlc\\Downloads\\Genre Classification Dataset\\test_data_solution.txt',sep=':::',names=['ID','TITLE','DESCRIPTION'])"
   ]
  },
  {
   "cell_type": "code",
   "execution_count": 3,
   "id": "dd0e4520",
   "metadata": {},
   "outputs": [
    {
     "data": {
      "text/html": [
       "<div>\n",
       "<style scoped>\n",
       "    .dataframe tbody tr th:only-of-type {\n",
       "        vertical-align: middle;\n",
       "    }\n",
       "\n",
       "    .dataframe tbody tr th {\n",
       "        vertical-align: top;\n",
       "    }\n",
       "\n",
       "    .dataframe thead th {\n",
       "        text-align: right;\n",
       "    }\n",
       "</style>\n",
       "<table border=\"1\" class=\"dataframe\">\n",
       "  <thead>\n",
       "    <tr style=\"text-align: right;\">\n",
       "      <th></th>\n",
       "      <th>ID</th>\n",
       "      <th>TITLE</th>\n",
       "      <th>GENRE</th>\n",
       "      <th>DESCRIPTION</th>\n",
       "    </tr>\n",
       "  </thead>\n",
       "  <tbody>\n",
       "    <tr>\n",
       "      <th>0</th>\n",
       "      <td>1</td>\n",
       "      <td>Oscar et la dame rose (2009)</td>\n",
       "      <td>drama</td>\n",
       "      <td>Listening in to a conversation between his do...</td>\n",
       "    </tr>\n",
       "    <tr>\n",
       "      <th>1</th>\n",
       "      <td>2</td>\n",
       "      <td>Cupid (1997)</td>\n",
       "      <td>thriller</td>\n",
       "      <td>A brother and sister with a past incestuous r...</td>\n",
       "    </tr>\n",
       "    <tr>\n",
       "      <th>2</th>\n",
       "      <td>3</td>\n",
       "      <td>Young, Wild and Wonderful (1980)</td>\n",
       "      <td>adult</td>\n",
       "      <td>As the bus empties the students for their fie...</td>\n",
       "    </tr>\n",
       "    <tr>\n",
       "      <th>3</th>\n",
       "      <td>4</td>\n",
       "      <td>The Secret Sin (1915)</td>\n",
       "      <td>drama</td>\n",
       "      <td>To help their unemployed father make ends mee...</td>\n",
       "    </tr>\n",
       "    <tr>\n",
       "      <th>4</th>\n",
       "      <td>5</td>\n",
       "      <td>The Unrecovered (2007)</td>\n",
       "      <td>drama</td>\n",
       "      <td>The film's title refers not only to the un-re...</td>\n",
       "    </tr>\n",
       "  </tbody>\n",
       "</table>\n",
       "</div>"
      ],
      "text/plain": [
       "   ID                               TITLE       GENRE  \\\n",
       "0   1       Oscar et la dame rose (2009)       drama    \n",
       "1   2                       Cupid (1997)    thriller    \n",
       "2   3   Young, Wild and Wonderful (1980)       adult    \n",
       "3   4              The Secret Sin (1915)       drama    \n",
       "4   5             The Unrecovered (2007)       drama    \n",
       "\n",
       "                                         DESCRIPTION  \n",
       "0   Listening in to a conversation between his do...  \n",
       "1   A brother and sister with a past incestuous r...  \n",
       "2   As the bus empties the students for their fie...  \n",
       "3   To help their unemployed father make ends mee...  \n",
       "4   The film's title refers not only to the un-re...  "
      ]
     },
     "execution_count": 3,
     "metadata": {},
     "output_type": "execute_result"
    }
   ],
   "source": [
    "train_data.head()"
   ]
  },
  {
   "cell_type": "code",
   "execution_count": 4,
   "id": "c552aa59",
   "metadata": {},
   "outputs": [
    {
     "data": {
      "text/html": [
       "<div>\n",
       "<style scoped>\n",
       "    .dataframe tbody tr th:only-of-type {\n",
       "        vertical-align: middle;\n",
       "    }\n",
       "\n",
       "    .dataframe tbody tr th {\n",
       "        vertical-align: top;\n",
       "    }\n",
       "\n",
       "    .dataframe thead th {\n",
       "        text-align: right;\n",
       "    }\n",
       "</style>\n",
       "<table border=\"1\" class=\"dataframe\">\n",
       "  <thead>\n",
       "    <tr style=\"text-align: right;\">\n",
       "      <th></th>\n",
       "      <th>ID</th>\n",
       "      <th>TITLE</th>\n",
       "      <th>DESCRIPTION</th>\n",
       "    </tr>\n",
       "  </thead>\n",
       "  <tbody>\n",
       "    <tr>\n",
       "      <th>0</th>\n",
       "      <td>1</td>\n",
       "      <td>Edgar's Lunch (1998)</td>\n",
       "      <td>L.R. Brane loves his life - his car, his apar...</td>\n",
       "    </tr>\n",
       "    <tr>\n",
       "      <th>1</th>\n",
       "      <td>2</td>\n",
       "      <td>La guerra de papá (1977)</td>\n",
       "      <td>Spain, March 1964: Quico is a very naughty ch...</td>\n",
       "    </tr>\n",
       "    <tr>\n",
       "      <th>2</th>\n",
       "      <td>3</td>\n",
       "      <td>Off the Beaten Track (2010)</td>\n",
       "      <td>One year in the life of Albin and his family ...</td>\n",
       "    </tr>\n",
       "    <tr>\n",
       "      <th>3</th>\n",
       "      <td>4</td>\n",
       "      <td>Meu Amigo Hindu (2015)</td>\n",
       "      <td>His father has died, he hasn't spoken with hi...</td>\n",
       "    </tr>\n",
       "    <tr>\n",
       "      <th>4</th>\n",
       "      <td>5</td>\n",
       "      <td>Er nu zhai (1955)</td>\n",
       "      <td>Before he was known internationally as a mart...</td>\n",
       "    </tr>\n",
       "  </tbody>\n",
       "</table>\n",
       "</div>"
      ],
      "text/plain": [
       "   ID                          TITLE  \\\n",
       "0   1          Edgar's Lunch (1998)    \n",
       "1   2      La guerra de papá (1977)    \n",
       "2   3   Off the Beaten Track (2010)    \n",
       "3   4        Meu Amigo Hindu (2015)    \n",
       "4   5             Er nu zhai (1955)    \n",
       "\n",
       "                                         DESCRIPTION  \n",
       "0   L.R. Brane loves his life - his car, his apar...  \n",
       "1   Spain, March 1964: Quico is a very naughty ch...  \n",
       "2   One year in the life of Albin and his family ...  \n",
       "3   His father has died, he hasn't spoken with hi...  \n",
       "4   Before he was known internationally as a mart...  "
      ]
     },
     "execution_count": 4,
     "metadata": {},
     "output_type": "execute_result"
    }
   ],
   "source": [
    "test_data.head()"
   ]
  },
  {
   "cell_type": "code",
   "execution_count": 5,
   "id": "6c10760c",
   "metadata": {},
   "outputs": [
    {
     "data": {
      "text/html": [
       "<div>\n",
       "<style scoped>\n",
       "    .dataframe tbody tr th:only-of-type {\n",
       "        vertical-align: middle;\n",
       "    }\n",
       "\n",
       "    .dataframe tbody tr th {\n",
       "        vertical-align: top;\n",
       "    }\n",
       "\n",
       "    .dataframe thead th {\n",
       "        text-align: right;\n",
       "    }\n",
       "</style>\n",
       "<table border=\"1\" class=\"dataframe\">\n",
       "  <thead>\n",
       "    <tr style=\"text-align: right;\">\n",
       "      <th></th>\n",
       "      <th>ID</th>\n",
       "      <th>TITLE</th>\n",
       "      <th>DESCRIPTION</th>\n",
       "    </tr>\n",
       "  </thead>\n",
       "  <tbody>\n",
       "    <tr>\n",
       "      <th>1</th>\n",
       "      <td>Edgar's Lunch (1998)</td>\n",
       "      <td>thriller</td>\n",
       "      <td>L.R. Brane loves his life - his car, his apar...</td>\n",
       "    </tr>\n",
       "    <tr>\n",
       "      <th>2</th>\n",
       "      <td>La guerra de papá (1977)</td>\n",
       "      <td>comedy</td>\n",
       "      <td>Spain, March 1964: Quico is a very naughty ch...</td>\n",
       "    </tr>\n",
       "    <tr>\n",
       "      <th>3</th>\n",
       "      <td>Off the Beaten Track (2010)</td>\n",
       "      <td>documentary</td>\n",
       "      <td>One year in the life of Albin and his family ...</td>\n",
       "    </tr>\n",
       "    <tr>\n",
       "      <th>4</th>\n",
       "      <td>Meu Amigo Hindu (2015)</td>\n",
       "      <td>drama</td>\n",
       "      <td>His father has died, he hasn't spoken with hi...</td>\n",
       "    </tr>\n",
       "    <tr>\n",
       "      <th>5</th>\n",
       "      <td>Er nu zhai (1955)</td>\n",
       "      <td>drama</td>\n",
       "      <td>Before he was known internationally as a mart...</td>\n",
       "    </tr>\n",
       "  </tbody>\n",
       "</table>\n",
       "</div>"
      ],
      "text/plain": [
       "                              ID          TITLE  \\\n",
       "1          Edgar's Lunch (1998)       thriller    \n",
       "2      La guerra de papá (1977)         comedy    \n",
       "3   Off the Beaten Track (2010)    documentary    \n",
       "4        Meu Amigo Hindu (2015)          drama    \n",
       "5             Er nu zhai (1955)          drama    \n",
       "\n",
       "                                         DESCRIPTION  \n",
       "1   L.R. Brane loves his life - his car, his apar...  \n",
       "2   Spain, March 1964: Quico is a very naughty ch...  \n",
       "3   One year in the life of Albin and his family ...  \n",
       "4   His father has died, he hasn't spoken with hi...  \n",
       "5   Before he was known internationally as a mart...  "
      ]
     },
     "execution_count": 5,
     "metadata": {},
     "output_type": "execute_result"
    }
   ],
   "source": [
    "test_data_sol.head()"
   ]
  },
  {
   "cell_type": "markdown",
   "id": "bd98069e",
   "metadata": {},
   "source": [
    "### Data Preprocessing"
   ]
  },
  {
   "cell_type": "code",
   "execution_count": 6,
   "id": "d764c3c6",
   "metadata": {},
   "outputs": [],
   "source": [
    "train_data = train_data.drop('ID', axis=1) \n",
    "test_data = test_data.drop('ID', axis=1)"
   ]
  },
  {
   "cell_type": "code",
   "execution_count": 7,
   "id": "e259e051",
   "metadata": {},
   "outputs": [
    {
     "data": {
      "text/plain": [
       "(54214, 3)"
      ]
     },
     "execution_count": 7,
     "metadata": {},
     "output_type": "execute_result"
    }
   ],
   "source": [
    "train_data.shape"
   ]
  },
  {
   "cell_type": "code",
   "execution_count": 8,
   "id": "caa0254a",
   "metadata": {},
   "outputs": [
    {
     "data": {
      "text/plain": [
       "(54200, 2)"
      ]
     },
     "execution_count": 8,
     "metadata": {},
     "output_type": "execute_result"
    }
   ],
   "source": [
    "test_data.shape"
   ]
  },
  {
   "cell_type": "code",
   "execution_count": 9,
   "id": "9d36d769",
   "metadata": {},
   "outputs": [
    {
     "data": {
      "text/plain": [
       "(54200, 3)"
      ]
     },
     "execution_count": 9,
     "metadata": {},
     "output_type": "execute_result"
    }
   ],
   "source": [
    "test_data_sol.shape"
   ]
  },
  {
   "cell_type": "code",
   "execution_count": 10,
   "id": "e1400b50",
   "metadata": {},
   "outputs": [
    {
     "data": {
      "text/plain": [
       "TITLE          0\n",
       "GENRE          0\n",
       "DESCRIPTION    0\n",
       "dtype: int64"
      ]
     },
     "execution_count": 10,
     "metadata": {},
     "output_type": "execute_result"
    }
   ],
   "source": [
    "train_data.isnull().sum()"
   ]
  },
  {
   "cell_type": "code",
   "execution_count": 11,
   "id": "aa894878",
   "metadata": {},
   "outputs": [
    {
     "data": {
      "text/plain": [
       "27"
      ]
     },
     "execution_count": 11,
     "metadata": {},
     "output_type": "execute_result"
    }
   ],
   "source": [
    "train_data['GENRE'].nunique()"
   ]
  },
  {
   "cell_type": "code",
   "execution_count": 12,
   "id": "12513ab4",
   "metadata": {},
   "outputs": [
    {
     "data": {
      "text/plain": [
       "array([' drama ', ' thriller ', ' adult ', ' documentary ', ' comedy ',\n",
       "       ' crime ', ' reality-tv ', ' horror ', ' sport ', ' animation ',\n",
       "       ' action ', ' fantasy ', ' short ', ' sci-fi ', ' music ',\n",
       "       ' adventure ', ' talk-show ', ' western ', ' family ', ' mystery ',\n",
       "       ' history ', ' news ', ' biography ', ' romance ', ' game-show ',\n",
       "       ' musical ', ' war '], dtype=object)"
      ]
     },
     "execution_count": 12,
     "metadata": {},
     "output_type": "execute_result"
    }
   ],
   "source": [
    "train_data['GENRE'].unique()"
   ]
  },
  {
   "cell_type": "code",
   "execution_count": 13,
   "id": "bebbeb89",
   "metadata": {},
   "outputs": [
    {
     "data": {
      "text/html": [
       "<div>\n",
       "<style scoped>\n",
       "    .dataframe tbody tr th:only-of-type {\n",
       "        vertical-align: middle;\n",
       "    }\n",
       "\n",
       "    .dataframe tbody tr th {\n",
       "        vertical-align: top;\n",
       "    }\n",
       "\n",
       "    .dataframe thead th {\n",
       "        text-align: right;\n",
       "    }\n",
       "</style>\n",
       "<table border=\"1\" class=\"dataframe\">\n",
       "  <thead>\n",
       "    <tr style=\"text-align: right;\">\n",
       "      <th></th>\n",
       "      <th>TITLE</th>\n",
       "      <th>GENRE</th>\n",
       "      <th>DESCRIPTION</th>\n",
       "    </tr>\n",
       "  </thead>\n",
       "  <tbody>\n",
       "    <tr>\n",
       "      <th>count</th>\n",
       "      <td>54214</td>\n",
       "      <td>54214</td>\n",
       "      <td>54214</td>\n",
       "    </tr>\n",
       "    <tr>\n",
       "      <th>unique</th>\n",
       "      <td>54214</td>\n",
       "      <td>27</td>\n",
       "      <td>54086</td>\n",
       "    </tr>\n",
       "    <tr>\n",
       "      <th>top</th>\n",
       "      <td>Oscar et la dame rose (2009)</td>\n",
       "      <td>drama</td>\n",
       "      <td>Grammy - music award of the American academy ...</td>\n",
       "    </tr>\n",
       "    <tr>\n",
       "      <th>freq</th>\n",
       "      <td>1</td>\n",
       "      <td>13613</td>\n",
       "      <td>12</td>\n",
       "    </tr>\n",
       "  </tbody>\n",
       "</table>\n",
       "</div>"
      ],
      "text/plain": [
       "                                 TITLE    GENRE  \\\n",
       "count                            54214    54214   \n",
       "unique                           54214       27   \n",
       "top      Oscar et la dame rose (2009)    drama    \n",
       "freq                                 1    13613   \n",
       "\n",
       "                                              DESCRIPTION  \n",
       "count                                               54214  \n",
       "unique                                              54086  \n",
       "top      Grammy - music award of the American academy ...  \n",
       "freq                                                   12  "
      ]
     },
     "execution_count": 13,
     "metadata": {},
     "output_type": "execute_result"
    }
   ],
   "source": [
    "train_data.describe(include='all')"
   ]
  },
  {
   "cell_type": "code",
   "execution_count": 14,
   "id": "6a3a90f1",
   "metadata": {},
   "outputs": [
    {
     "data": {
      "text/plain": [
       "GENRE\n",
       " drama           13613\n",
       " documentary     13096\n",
       " comedy           7447\n",
       " short            5073\n",
       " horror           2204\n",
       " thriller         1591\n",
       " action           1315\n",
       " western          1032\n",
       " reality-tv        884\n",
       " family            784\n",
       " adventure         775\n",
       " music             731\n",
       " romance           672\n",
       " sci-fi            647\n",
       " adult             590\n",
       " crime             505\n",
       " animation         498\n",
       " sport             432\n",
       " talk-show         391\n",
       " fantasy           323\n",
       " mystery           319\n",
       " musical           277\n",
       " biography         265\n",
       " history           243\n",
       " game-show         194\n",
       " news              181\n",
       " war               132\n",
       "Name: count, dtype: int64"
      ]
     },
     "execution_count": 14,
     "metadata": {},
     "output_type": "execute_result"
    }
   ],
   "source": [
    "train_data['GENRE'].value_counts()"
   ]
  },
  {
   "cell_type": "code",
   "execution_count": 15,
   "id": "356daaad",
   "metadata": {},
   "outputs": [
    {
     "name": "stderr",
     "output_type": "stream",
     "text": [
      "[nltk_data] Downloading package punkt to\n",
      "[nltk_data]     C:\\Users\\Dlc\\AppData\\Roaming\\nltk_data...\n",
      "[nltk_data]   Package punkt is already up-to-date!\n",
      "[nltk_data] Downloading package stopwords to\n",
      "[nltk_data]     C:\\Users\\Dlc\\AppData\\Roaming\\nltk_data...\n",
      "[nltk_data]   Package stopwords is already up-to-date!\n"
     ]
    }
   ],
   "source": [
    "# Cleaning descrption\n",
    "import nltk\n",
    "from nltk.corpus import stopwords\n",
    "nltk.download('punkt')\n",
    "nltk.download('stopwords')\n",
    "stop_words=set(stopwords.words(\"english\"))\n",
    "\n",
    "import re\n",
    "def clean_text(text):\n",
    "    #remove emails\n",
    "    text = ' '.join([i for i in text.split() if '@' not in i])\n",
    "    #remove web address ? Means matching anything to its left \\S all non white space characters\n",
    "    text = re.sub('http[s]?://\\S+', '', text)\n",
    "    #Filter to allow only alphabets\n",
    "    text = re.sub(r'[^a-zA-Z\\']', ' ', text)\n",
    "    #Remove Unicode characters\n",
    "    text = re.sub(r'[^\\x00-\\x7F]+', '', text)\n",
    "    #Convert to lowercase to maintain consistency\n",
    "    text = text.lower()\n",
    "    # Removing stopwords\n",
    "    words = nltk.word_tokenize(text)\n",
    "    text=\" \".join([i for i in words if i not in stop_words and len(i)>2 ])\n",
    "    #remove double spaces\n",
    "    text = re.sub('\\s+', ' ',text)\n",
    "    return text\n",
    "\n",
    "train_data['CLEANED_DESCRIPTION'] = train_data['DESCRIPTION'].apply(lambda x: clean_text(x))\n",
    "test_data['CLEANED_DESCRIPTION'] = test_data['DESCRIPTION'].apply(lambda x: clean_text(x))"
   ]
  },
  {
   "cell_type": "code",
   "execution_count": 16,
   "id": "53853dd4",
   "metadata": {},
   "outputs": [
    {
     "data": {
      "text/html": [
       "<div>\n",
       "<style scoped>\n",
       "    .dataframe tbody tr th:only-of-type {\n",
       "        vertical-align: middle;\n",
       "    }\n",
       "\n",
       "    .dataframe tbody tr th {\n",
       "        vertical-align: top;\n",
       "    }\n",
       "\n",
       "    .dataframe thead th {\n",
       "        text-align: right;\n",
       "    }\n",
       "</style>\n",
       "<table border=\"1\" class=\"dataframe\">\n",
       "  <thead>\n",
       "    <tr style=\"text-align: right;\">\n",
       "      <th></th>\n",
       "      <th>TITLE</th>\n",
       "      <th>GENRE</th>\n",
       "      <th>DESCRIPTION</th>\n",
       "      <th>CLEANED_DESCRIPTION</th>\n",
       "    </tr>\n",
       "  </thead>\n",
       "  <tbody>\n",
       "    <tr>\n",
       "      <th>0</th>\n",
       "      <td>Oscar et la dame rose (2009)</td>\n",
       "      <td>drama</td>\n",
       "      <td>Listening in to a conversation between his do...</td>\n",
       "      <td>listening conversation doctor parents year old...</td>\n",
       "    </tr>\n",
       "    <tr>\n",
       "      <th>1</th>\n",
       "      <td>Cupid (1997)</td>\n",
       "      <td>thriller</td>\n",
       "      <td>A brother and sister with a past incestuous r...</td>\n",
       "      <td>brother sister past incestuous relationship cu...</td>\n",
       "    </tr>\n",
       "    <tr>\n",
       "      <th>2</th>\n",
       "      <td>Young, Wild and Wonderful (1980)</td>\n",
       "      <td>adult</td>\n",
       "      <td>As the bus empties the students for their fie...</td>\n",
       "      <td>bus empties students field trip museum natural...</td>\n",
       "    </tr>\n",
       "    <tr>\n",
       "      <th>3</th>\n",
       "      <td>The Secret Sin (1915)</td>\n",
       "      <td>drama</td>\n",
       "      <td>To help their unemployed father make ends mee...</td>\n",
       "      <td>help unemployed father make ends meet edith tw...</td>\n",
       "    </tr>\n",
       "    <tr>\n",
       "      <th>4</th>\n",
       "      <td>The Unrecovered (2007)</td>\n",
       "      <td>drama</td>\n",
       "      <td>The film's title refers not only to the un-re...</td>\n",
       "      <td>film title refers recovered bodies ground zero...</td>\n",
       "    </tr>\n",
       "  </tbody>\n",
       "</table>\n",
       "</div>"
      ],
      "text/plain": [
       "                                TITLE       GENRE  \\\n",
       "0       Oscar et la dame rose (2009)       drama    \n",
       "1                       Cupid (1997)    thriller    \n",
       "2   Young, Wild and Wonderful (1980)       adult    \n",
       "3              The Secret Sin (1915)       drama    \n",
       "4             The Unrecovered (2007)       drama    \n",
       "\n",
       "                                         DESCRIPTION  \\\n",
       "0   Listening in to a conversation between his do...   \n",
       "1   A brother and sister with a past incestuous r...   \n",
       "2   As the bus empties the students for their fie...   \n",
       "3   To help their unemployed father make ends mee...   \n",
       "4   The film's title refers not only to the un-re...   \n",
       "\n",
       "                                 CLEANED_DESCRIPTION  \n",
       "0  listening conversation doctor parents year old...  \n",
       "1  brother sister past incestuous relationship cu...  \n",
       "2  bus empties students field trip museum natural...  \n",
       "3  help unemployed father make ends meet edith tw...  \n",
       "4  film title refers recovered bodies ground zero...  "
      ]
     },
     "execution_count": 16,
     "metadata": {},
     "output_type": "execute_result"
    }
   ],
   "source": [
    "train_data.head()"
   ]
  },
  {
   "cell_type": "markdown",
   "id": "ce55d1af",
   "metadata": {},
   "source": [
    "### Data Visualization "
   ]
  },
  {
   "cell_type": "code",
   "execution_count": 17,
   "id": "fa5eeb75",
   "metadata": {},
   "outputs": [
    {
     "data": {
      "image/png": "[encoded data removed]",
      "text/plain": [
       "<Figure size 1800x1000 with 1 Axes>"
      ]
     },
     "metadata": {},
     "output_type": "display_data"
    }
   ],
   "source": [
    "import matplotlib.pyplot as pyp\n",
    "import seaborn as sns\n",
    "pyp.figure(figsize=(18,10))\n",
    "train_data['DESCRIPTION_length']=train_data[\"DESCRIPTION\"].apply(len)\n",
    "sns.barplot(x='GENRE',y='DESCRIPTION_length',data=train_data)\n",
    "pyp.show()"
   ]
  },
  {
   "cell_type": "markdown",
   "id": "0bfc584a",
   "metadata": {},
   "source": [
    "### Training and Splitting Data"
   ]
  },
  {
   "cell_type": "code",
   "execution_count": 18,
   "id": "8f05b8ac",
   "metadata": {},
   "outputs": [],
   "source": [
    "from sklearn.feature_extraction.text import TfidfVectorizer\n",
    "from sklearn.model_selection import train_test_split\n",
    "from sklearn.preprocessing import LabelEncoder\n",
    "\n",
    "train_data['CLEANED_DESCRIPTION'].fillna(\"\", inplace=True)\n",
    "test_data['CLEANED_DESCRIPTION'].fillna(\"\", inplace=True)\n",
    "tf=TfidfVectorizer()\n",
    "X_train=tf.fit_transform(train_data['CLEANED_DESCRIPTION'])\n",
    "X_test=tf.transform(test_data['CLEANED_DESCRIPTION'])\n",
    "label_encoder = LabelEncoder()\n",
    "Y_train = label_encoder.fit_transform(train_data['GENRE'])\n",
    "Y_test = label_encoder.transform(test_data_sol['TITLE'])"
   ]
  },
  {
   "cell_type": "code",
   "execution_count": 19,
   "id": "d6ad837e",
   "metadata": {},
   "outputs": [
    {
     "name": "stdout",
     "output_type": "stream",
     "text": [
      "  (0, 11631)\t0.12722339282643766\n",
      "  (0, 77208)\t0.17779001889944526\n",
      "  (0, 101432)\t0.1439562095038111\n",
      "  (0, 18103)\t0.10642863407479736\n",
      "  (0, 7457)\t0.18654154560997663\n",
      "  (0, 30980)\t0.19447848807687934\n",
      "  (0, 22112)\t0.18826918105919346\n",
      "  (0, 80040)\t0.12476402897671185\n",
      "  (0, 38201)\t0.07707215750947714\n",
      "  (0, 20513)\t0.10145064331069877\n",
      "  (0, 38526)\t0.10140237511176671\n",
      "  (0, 60867)\t0.06660982116987953\n",
      "  (0, 59568)\t0.05268500437847982\n",
      "  (0, 2741)\t0.13325621545424993\n",
      "  (0, 17534)\t0.14871488820265594\n",
      "  (0, 114313)\t0.1566198781535422\n",
      "  (0, 48430)\t0.1341168179821525\n",
      "  (0, 114870)\t0.17671059795122573\n",
      "  (0, 81562)\t0.1142374816812966\n",
      "  (0, 34014)\t0.10968492689435112\n",
      "  (0, 34835)\t0.18075135701616385\n",
      "  (0, 109597)\t0.11670337523024851\n",
      "  (0, 4727)\t0.14218422655465487\n",
      "  (0, 18543)\t0.12711732912098084\n",
      "  (0, 98490)\t0.17671059795122573\n",
      "  :\t:\n",
      "  (54213, 47580)\t0.2097928614392114\n",
      "  (54213, 84993)\t0.1876652304476695\n",
      "  (54213, 26117)\t0.17761329088075248\n",
      "  (54213, 114121)\t0.19997715592519383\n",
      "  (54213, 36898)\t0.1871291981168332\n",
      "  (54213, 111526)\t0.15787924752931937\n",
      "  (54213, 9097)\t0.20168971813262393\n",
      "  (54213, 113164)\t0.1679915454888985\n",
      "  (54213, 50222)\t0.1711571204004439\n",
      "  (54213, 99463)\t0.17567928437031788\n",
      "  (54213, 47068)\t0.14968932481663175\n",
      "  (54213, 70703)\t0.159656697958028\n",
      "  (54213, 54922)\t0.21561257466074163\n",
      "  (54213, 66547)\t0.2012518944413992\n",
      "  (54213, 33548)\t0.12062419872536453\n",
      "  (54213, 33588)\t0.12261109614324198\n",
      "  (54213, 98733)\t0.1647124529269652\n",
      "  (54213, 46150)\t0.1499060278231985\n",
      "  (54213, 3236)\t0.12899616813382284\n",
      "  (54213, 76729)\t0.15403203447515992\n",
      "  (54213, 42004)\t0.12202922614257834\n",
      "  (54213, 57291)\t0.19157189671090982\n",
      "  (54213, 24826)\t0.09548801978458688\n",
      "  (54213, 22535)\t0.11674600469195641\n",
      "  (54213, 62399)\t0.0993888105981388\n"
     ]
    }
   ],
   "source": [
    "print(X_train)"
   ]
  },
  {
   "cell_type": "markdown",
   "id": "394f9029",
   "metadata": {},
   "source": [
    "### Logistic Regression"
   ]
  },
  {
   "cell_type": "code",
   "execution_count": 20,
   "id": "eccfb217",
   "metadata": {},
   "outputs": [
    {
     "name": "stdout",
     "output_type": "stream",
     "text": [
      "Accuracy:  0.587380073800738\n",
      "              precision    recall  f1-score   support\n",
      "\n",
      "           0       0.53      0.24      0.33      1314\n",
      "           1       0.59      0.20      0.30       590\n",
      "           2       0.72      0.13      0.22       775\n",
      "           3       0.55      0.01      0.02       498\n",
      "           4       0.00      0.00      0.00       264\n",
      "           5       0.56      0.58      0.57      7446\n",
      "           6       0.45      0.02      0.04       505\n",
      "           7       0.66      0.87      0.75     13096\n",
      "           8       0.53      0.81      0.64     13612\n",
      "           9       0.54      0.07      0.13       783\n",
      "          10       0.00      0.00      0.00       322\n",
      "          11       0.89      0.52      0.66       193\n",
      "          12       0.00      0.00      0.00       243\n",
      "          13       0.66      0.56      0.61      2204\n",
      "          14       0.68      0.42      0.52       731\n",
      "          15       1.00      0.00      0.01       276\n",
      "          16       0.00      0.00      0.00       318\n",
      "          17       1.00      0.03      0.05       181\n",
      "          18       0.47      0.15      0.23       883\n",
      "          19       0.25      0.01      0.02       672\n",
      "          20       0.58      0.20      0.30       646\n",
      "          21       0.53      0.32      0.40      5072\n",
      "          22       0.82      0.19      0.31       431\n",
      "          23       0.67      0.14      0.23       391\n",
      "          24       0.43      0.10      0.16      1590\n",
      "          25       0.00      0.00      0.00       132\n",
      "          26       0.92      0.70      0.79      1032\n",
      "\n",
      "    accuracy                           0.59     54200\n",
      "   macro avg       0.52      0.23      0.27     54200\n",
      "weighted avg       0.57      0.59      0.54     54200\n",
      "\n"
     ]
    }
   ],
   "source": [
    "# model training on NBC\n",
    "\n",
    "from sklearn.metrics import accuracy_score,classification_report\n",
    "lg_model = LogisticRegression()\n",
    "lg_model.fit(X_train,Y_train)\n",
    "Y_pred = lg_model.predict(X_test)\n",
    "acc = accuracy_score(Y_test, Y_pred)\n",
    "cls = classification_report(Y_test, Y_pred)\n",
    "print(\"Accuracy: \",acc)\n",
    "print(cls)\n"
   ]
  },
  {
   "cell_type": "markdown",
   "id": "a62d55fe",
   "metadata": {},
   "source": [
    "### Navie Bayes Classifier"
   ]
  },
  {
   "cell_type": "code",
   "execution_count": 22,
   "id": "6333a26c",
   "metadata": {},
   "outputs": [
    {
     "name": "stdout",
     "output_type": "stream",
     "text": [
      "Accuracy:  0.587380073800738\n",
      "              precision    recall  f1-score   support\n",
      "\n",
      "           0       0.53      0.24      0.33      1314\n",
      "           1       0.59      0.20      0.30       590\n",
      "           2       0.72      0.13      0.22       775\n",
      "           3       0.55      0.01      0.02       498\n",
      "           4       0.00      0.00      0.00       264\n",
      "           5       0.56      0.58      0.57      7446\n",
      "           6       0.45      0.02      0.04       505\n",
      "           7       0.66      0.87      0.75     13096\n",
      "           8       0.53      0.81      0.64     13612\n",
      "           9       0.54      0.07      0.13       783\n",
      "          10       0.00      0.00      0.00       322\n",
      "          11       0.89      0.52      0.66       193\n",
      "          12       0.00      0.00      0.00       243\n",
      "          13       0.66      0.56      0.61      2204\n",
      "          14       0.68      0.42      0.52       731\n",
      "          15       1.00      0.00      0.01       276\n",
      "          16       0.00      0.00      0.00       318\n",
      "          17       1.00      0.03      0.05       181\n",
      "          18       0.47      0.15      0.23       883\n",
      "          19       0.25      0.01      0.02       672\n",
      "          20       0.58      0.20      0.30       646\n",
      "          21       0.53      0.32      0.40      5072\n",
      "          22       0.82      0.19      0.31       431\n",
      "          23       0.67      0.14      0.23       391\n",
      "          24       0.43      0.10      0.16      1590\n",
      "          25       0.00      0.00      0.00       132\n",
      "          26       0.92      0.70      0.79      1032\n",
      "\n",
      "    accuracy                           0.59     54200\n",
      "   macro avg       0.52      0.23      0.27     54200\n",
      "weighted avg       0.57      0.59      0.54     54200\n",
      "\n"
     ]
    }
   ],
   "source": [
    "from sklearn.naive_bayes import MultinomialNB\n",
    "MNB_model= MultinomialNB()\n",
    "MNB_model.fit(X_train,Y_train)\n",
    "y_pred = MNB_model.predict(X_test)\n",
    "acc = accuracy_score(Y_test, Y_pred)\n",
    "cls = classification_report(Y_test,Y_pred)\n",
    "print(\"Accuracy: \",acc)\n",
    "print(cls)"
   ]
  },
  {
   "cell_type": "markdown",
   "id": "e589ce72",
   "metadata": {},
   "source": [
    "### Support Vector Machine"
   ]
  },
  {
   "cell_type": "code",
   "execution_count": 24,
   "id": "baf3d5bd",
   "metadata": {},
   "outputs": [
    {
     "name": "stdout",
     "output_type": "stream",
     "text": [
      "Test Accuracy: 0.5863468634686347\n",
      "Test Classification Report:\n",
      "               precision    recall  f1-score   support\n",
      "\n",
      "           0       0.42      0.34      0.38      1314\n",
      "           1       0.64      0.42      0.51       590\n",
      "           2       0.52      0.22      0.31       775\n",
      "           3       0.40      0.14      0.20       498\n",
      "           4       0.00      0.00      0.00       264\n",
      "           5       0.55      0.59      0.57      7446\n",
      "           6       0.29      0.07      0.11       505\n",
      "           7       0.69      0.83      0.75     13096\n",
      "           8       0.57      0.72      0.63     13612\n",
      "           9       0.40      0.16      0.23       783\n",
      "          10       0.32      0.07      0.12       322\n",
      "          11       0.80      0.65      0.72       193\n",
      "          12       0.21      0.02      0.04       243\n",
      "          13       0.61      0.64      0.62      2204\n",
      "          14       0.63      0.53      0.58       731\n",
      "          15       0.35      0.07      0.11       276\n",
      "          16       0.23      0.04      0.06       318\n",
      "          17       0.60      0.13      0.22       181\n",
      "          18       0.45      0.26      0.33       883\n",
      "          19       0.30      0.07      0.11       672\n",
      "          20       0.53      0.34      0.41       646\n",
      "          21       0.43      0.35      0.38      5072\n",
      "          22       0.61      0.41      0.49       431\n",
      "          23       0.60      0.28      0.39       391\n",
      "          24       0.31      0.17      0.22      1590\n",
      "          25       0.62      0.15      0.24       132\n",
      "          26       0.86      0.84      0.85      1032\n",
      "\n",
      "    accuracy                           0.59     54200\n",
      "   macro avg       0.48      0.31      0.35     54200\n",
      "weighted avg       0.56      0.59      0.56     54200\n",
      "\n"
     ]
    }
   ],
   "source": [
    "from sklearn.svm import LinearSVC\n",
    "svc = LinearSVC()\n",
    "svc.fit(X_train,Y_train)\n",
    "y_test_pred = svc.predict(X_test)\n",
    "print(\"Test Accuracy:\", accuracy_score(Y_test, y_test_pred))\n",
    "print(\"Test Classification Report:\\n\", classification_report(Y_test, y_test_pred))"
   ]
  },
  {
   "cell_type": "code",
   "execution_count": 33,
   "id": "66a7e838",
   "metadata": {},
   "outputs": [
    {
     "name": "stdout",
     "output_type": "stream",
     "text": [
      " comedy \n",
      " drama \n"
     ]
    }
   ],
   "source": [
    "def predict_movie(description):\n",
    "    tf1 = tf.transform([description])\n",
    "    pred_label = svc.predict(tf1)\n",
    "    return label_encoder.inverse_transform(pred_label)[0]\n",
    "\n",
    "sample_descr_for_movie =\"Vasu Inamdar (Ina) suffers from a disorder where the pictures which he sees comes in his dreams and turn into reality. He discusses this with his wife Shalu and his best friend Digamber Minapure (Mina), Shalu then gets help from Dr A.Z Dcosta (Dika), but Dika turns out to be a fraud and he takes advantage of Shalu and puts her to sleep so that he can avail it in real, Mina comes to know that Dika was taken advantage of and decides to teach him a lesson by bringing the truth in front of everyone.\"\n",
    "print(predict_movie(sample_descr_for_movie))\n",
    "\n",
    "sample_descr_for_movie1 = \"Two individuals find themselves alone after a major explosion that struck their city. Both searching for any signs of life, they stumble upon each other and make the best of what they have. Before they realize the extremity of what happens they have a bit of fun around the city.\"\n",
    "print(predict_movie(sample_descr_for_movie1))"
   ]
  },
  {
   "cell_type": "code",
   "execution_count": null,
   "id": "23661d9c",
   "metadata": {},
   "outputs": [],
   "source": []
  }
 ],
 "metadata": {
  "kernelspec": {
   "display_name": "Python 3 (ipykernel)",
   "language": "python",
   "name": "python3"
  },
  "language_info": {
   "codemirror_mode": {
    "name": "ipython",
    "version": 3
   },
   "file_extension": ".py",
   "mimetype": "text/x-python",
   "name": "python",
   "nbconvert_exporter": "python",
   "pygments_lexer": "ipython3",
   "version": "3.11.7"
  }
 },
 "nbformat": 4,
 "nbformat_minor": 5
}
